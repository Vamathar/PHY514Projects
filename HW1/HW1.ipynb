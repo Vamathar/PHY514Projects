{
 "cells": [
  {
   "cell_type": "markdown",
   "metadata": {},
   "source": [
    "# PHY 514 HW 1"
   ]
  },
  {
   "cell_type": "markdown",
   "metadata": {},
   "source": [
    "## Problem 1"
   ]
  },
  {
   "cell_type": "markdown",
   "metadata": {},
   "source": [
    "The ODE for a harmonic oscillator is given by Hook's law (in one dimension):\n",
    "\\begin{equation}\n",
    "F=-kx.\n",
    "\\end{equation}\n",
    "Putting this in terms of $x$ and its derivatives, we have:\n",
    "\\begin{equation}\n",
    "x(t)=-\\frac{m}{k}\\ddot{x}(t).\n",
    "\\end{equation}\n",
    "The analytical solution for this equation is of course,\n",
    "\\begin{equation}\n",
    "x(t) = c_1 sin\\left(\\omega t\\right)+c_2 cos\\left(\\omega t\\right)\n",
    "\\end{equation}\n",
    "where $\\omega = \\sqrt{\\frac{k}{m}}$. "
   ]
  },
  {
   "cell_type": "markdown",
   "metadata": {},
   "source": [
    "### "
   ]
  }
 ],
 "metadata": {
  "kernelspec": {
   "display_name": "Python 3",
   "language": "python",
   "name": "python3"
  },
  "language_info": {
   "codemirror_mode": {
    "name": "ipython",
    "version": 3
   },
   "file_extension": ".py",
   "mimetype": "text/x-python",
   "name": "python",
   "nbconvert_exporter": "python",
   "pygments_lexer": "ipython3",
   "version": "3.6.1"
  }
 },
 "nbformat": 4,
 "nbformat_minor": 2
}
