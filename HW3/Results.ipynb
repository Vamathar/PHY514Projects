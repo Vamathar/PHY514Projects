{
 "cells": [
  {
   "cell_type": "markdown",
   "metadata": {},
   "source": [
    "## Code"
   ]
  },
  {
   "cell_type": "markdown",
   "metadata": {},
   "source": [
    "I used the lj_start.py code from canvas. The Lennard-Jones potential used in the code is given by,\n",
    "\\begin{equation}\n",
    "U(r)=\\frac{-4}{r^6}\\left(1-\\frac{1}{r^6}\\right).\n",
    "\\end{equation}\n",
    "The force is then given by,\n",
    "\\begin{equation}\n",
    "F(r)=-\\frac{dU}{dr} = 24r^{-7}-48r^{-13}=\\frac{24}{r^7}\\left(1-\\frac{2}{r^6}\\right).\n",
    "\\end{equation}\n",
    "This is the \"missing force calculation\" that I will be inserting into the given code."
   ]
  },
  {
   "cell_type": "markdown",
   "metadata": {},
   "source": [
    "## Integrator"
   ]
  },
  {
   "cell_type": "code",
   "execution_count": null,
   "metadata": {
    "collapsed": true
   },
   "outputs": [],
   "source": []
  }
 ],
 "metadata": {
  "kernelspec": {
   "display_name": "Python 3",
   "language": "python",
   "name": "python3"
  },
  "language_info": {
   "codemirror_mode": {
    "name": "ipython",
    "version": 3
   },
   "file_extension": ".py",
   "mimetype": "text/x-python",
   "name": "python",
   "nbconvert_exporter": "python",
   "pygments_lexer": "ipython3",
   "version": "3.6.1"
  }
 },
 "nbformat": 4,
 "nbformat_minor": 2
}
